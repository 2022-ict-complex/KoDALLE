{
 "cells": [
  {
   "cell_type": "markdown",
   "id": "0a9e9261-01a6-491c-a789-1087db739848",
   "metadata": {},
   "source": [
    "### Reranking 예시"
   ]
  },
  {
   "cell_type": "code",
   "execution_count": null,
   "id": "6a9621cd-aec4-42bd-91d7-596e467f4080",
   "metadata": {},
   "outputs": [],
   "source": [
    "from clipmodel import *\n",
    "import cv2 \n",
    "import matplotlib.pyplot as plt\n",
    "\n",
    "CUDA_LAUNCH_BLOCKING=1."
   ]
  },
  {
   "cell_type": "code",
   "execution_count": null,
   "id": "311c31c3-2164-4bf4-a542-f0238cb7adaf",
   "metadata": {},
   "outputs": [],
   "source": [
    "model = torch.load('fashionclip_fn.pt')"
   ]
  },
  {
   "cell_type": "code",
   "execution_count": null,
   "id": "68723e83-85f7-40c2-a506-9d9faa4174ff",
   "metadata": {},
   "outputs": [],
   "source": [
    "### Text, Image processor 정의 ### \n",
    "tokenizer = AutoTokenizer.from_pretrained(\"monologg/distilkobert\")\n",
    "transform = A.Compose([A.Resize(224, 224), ToTensorV2()])"
   ]
  },
  {
   "cell_type": "code",
   "execution_count": null,
   "id": "83bc01cc-c38c-47ce-8278-c77977230675",
   "metadata": {},
   "outputs": [],
   "source": [
    "### 예시 text, image 가져오기 ### \n",
    "\n",
    "baseline_dir = \"./data\"\n",
    "image_dir = os.path.join(baseline_dir, \"cropped_train_img\")\n",
    "text_dir = os.path.join(baseline_dir, \"train_label\")\n",
    "images = sorted([os.path.join(image_dir, i) for i in os.listdir(image_dir)])\n",
    "text_pre = sorted([os.path.join(text_dir, i) for i in os.listdir(text_dir)])\n",
    "\n",
    "val_text_dir = os.path.join(baseline_dir, \"cropped_img_selected/val_label\")\n",
    "val_img_dir = os.path.join(baseline_dir, \"cropped_img_selected/val_img\")\n",
    "val_text_pre = sorted(\n",
    "    [os.path.join(val_text_dir, i) for i in os.listdir(val_text_dir)]\n",
    ")[1:]\n",
    "val_images = sorted([os.path.join(val_img_dir, i) for i in os.listdir(val_img_dir)])\n",
    "\n",
    "texts = []\n",
    "print(\"Extracting text information!\")\n",
    "for i in tqdm(range(len(text_pre))):\n",
    "    with open(text_pre[i], \"r\", encoding=\"utf-8\") as f:\n",
    "        te = f.read()\n",
    "        texts.append(te)\n",
    "\n",
    "val_texts = []\n",
    "for i in tqdm(range(len(val_text_pre))):\n",
    "    with open(val_text_pre[i], \"r\", encoding=\"utf-8\") as f:\n",
    "        te = f.read()\n",
    "        val_texts.append(te)"
   ]
  },
  {
   "cell_type": "code",
   "execution_count": null,
   "id": "9be7a5d2-ab3f-4382-ab6d-c2ea4e4e534e",
   "metadata": {},
   "outputs": [],
   "source": [
    "### 예시: DALL-E에 들어가는 문장: \n",
    "val_texts[0]"
   ]
  },
  {
   "cell_type": "code",
   "execution_count": null,
   "id": "3a06eb52-ba64-43e6-a1fa-774997a21a13",
   "metadata": {},
   "outputs": [],
   "source": [
    "### Image Inputs ###\n",
    "### 예시: DALL-E가 위의 text에 대해 생성해내는 이미지가 5개라고 할때:\n",
    "### transform으로 224 x 224, ToTensorV2 형식으로 변환, 하나의 tensor로 stack\n",
    "test_images = []\n",
    "for im in val_images[:5]:\n",
    "    single_im = cv2.imread(im)\n",
    "    single_im = cv2.cvtColor(single_im, cv2.COLOR_BGR2RGB)\n",
    "    ima = transform(image=single_im)['image']\n",
    "    test_images.append(ima.float())\n",
    "test_images = torch.stack(test_images, dim = 0)"
   ]
  },
  {
   "cell_type": "code",
   "execution_count": null,
   "id": "5a05ed66-4a9d-49cc-819e-9c32f5cc040b",
   "metadata": {},
   "outputs": [],
   "source": [
    "### Text Input ###\n",
    "input_texts = tokenizer(val_texts[0], padding=True, pad_to_max_length=True, max_length = 128, truncation=True, return_tensors = \"pt\")"
   ]
  },
  {
   "cell_type": "code",
   "execution_count": null,
   "id": "77f921de-56ca-4df2-b03f-eb26a6c30029",
   "metadata": {},
   "outputs": [],
   "source": [
    "model = model.to(device)\n",
    "input_texts = input_texts.to(device)\n",
    "test_images = test_images.to(device)"
   ]
  },
  {
   "cell_type": "code",
   "execution_count": null,
   "id": "1e2e2918-e11f-4470-9e41-0bb4450c3265",
   "metadata": {},
   "outputs": [],
   "source": [
    "with torch.no_grad():\n",
    "    model.eval()\n",
    "    ### Input text 1개, DALL-E 가 만들어낸 test_images 5개 ###\n",
    "    text_embeds, image_embeds = model(input_texts, test_images)\n",
    "    lgits = (text_embeds @ image_embeds.T)"
   ]
  },
  {
   "cell_type": "code",
   "execution_count": null,
   "id": "b5951653-f09f-4087-baef-d11e7cf4be24",
   "metadata": {},
   "outputs": [],
   "source": [
    "### Re-Ranking 결과 ### \n",
    "probs = torch.nn.Softmax(dim=1)(lgits)\n",
    "import matplotlib.pyplot as plt\n",
    "print(f'Input Text: {val_texts[0]}')\n",
    "### Sorting 통해 text랑 image사이 거리가 가장 가까운 순으로 출력 ### \n",
    "for idx, prob in sorted(enumerate(probs[0]),key = lambda x: x[1], reverse = True):\n",
    "    print(f'probability: {prob.item()}')\n",
    "    tmp = Image.open(val_images[idx])\n",
    "    plt.imshow(tmp)\n",
    "    plt.show()"
   ]
  }
 ],
 "metadata": {
  "kernelspec": {
   "display_name": "Python 3 (ipykernel)",
   "language": "python",
   "name": "python3"
  },
  "language_info": {
   "codemirror_mode": {
    "name": "ipython",
    "version": 3
   },
   "file_extension": ".py",
   "mimetype": "text/x-python",
   "name": "python",
   "nbconvert_exporter": "python",
   "pygments_lexer": "ipython3",
   "version": "3.7.11"
  }
 },
 "nbformat": 4,
 "nbformat_minor": 5
}
